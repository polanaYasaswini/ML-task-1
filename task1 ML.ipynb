{
 "cells": [
  {
   "cell_type": "markdown",
   "id": "37c8ba29",
   "metadata": {},
   "source": [
    "# AUTHOR:POLANA YASASWINI\n",
    "\n",
    "\n",
    "# DOMAIN:Data Science and Busssiness Analytic Intern\n",
    "\n",
    "\n",
    "# PREDICTION USING SUPERVISED LEARNING\n",
    "\n",
    "           (level-Beginner)\n",
    "           \n",
    "           \n",
    "           \n",
    "      GRIP TASK 1\n",
    "      \n",
    "   problem statement:what will be the predicted score if student studies for 9.25hrs/day?"
   ]
  },
  {
   "cell_type": "markdown",
   "id": "d10d6f7e",
   "metadata": {},
   "source": [
    "Reading data from file "
   ]
  },
  {
   "cell_type": "code",
   "execution_count": null,
   "id": "15812949",
   "metadata": {},
   "outputs": [],
   "source": [
    "import pandas as pd\n",
    "df=pd.read_csv(\"C:\\\\Users\\\\P.YASASWINI\\\\OneDrive\\\\Desktop\\\\scores.csv\")\n",
    "df\n"
   ]
  },
  {
   "cell_type": "markdown",
   "id": "abe14cb1",
   "metadata": {},
   "source": [
    "Exploring the data"
   ]
  },
  {
   "cell_type": "code",
   "execution_count": 2,
   "id": "3fbb41bc",
   "metadata": {},
   "outputs": [
    {
     "data": {
      "text/html": [
       "<div>\n",
       "<style scoped>\n",
       "    .dataframe tbody tr th:only-of-type {\n",
       "        vertical-align: middle;\n",
       "    }\n",
       "\n",
       "    .dataframe tbody tr th {\n",
       "        vertical-align: top;\n",
       "    }\n",
       "\n",
       "    .dataframe thead th {\n",
       "        text-align: right;\n",
       "    }\n",
       "</style>\n",
       "<table border=\"1\" class=\"dataframe\">\n",
       "  <thead>\n",
       "    <tr style=\"text-align: right;\">\n",
       "      <th></th>\n",
       "      <th>Hours</th>\n",
       "      <th>Scores</th>\n",
       "    </tr>\n",
       "  </thead>\n",
       "  <tbody>\n",
       "    <tr>\n",
       "      <th>0</th>\n",
       "      <td>2.5</td>\n",
       "      <td>21</td>\n",
       "    </tr>\n",
       "    <tr>\n",
       "      <th>1</th>\n",
       "      <td>5.1</td>\n",
       "      <td>47</td>\n",
       "    </tr>\n",
       "    <tr>\n",
       "      <th>2</th>\n",
       "      <td>3.2</td>\n",
       "      <td>27</td>\n",
       "    </tr>\n",
       "    <tr>\n",
       "      <th>3</th>\n",
       "      <td>8.5</td>\n",
       "      <td>75</td>\n",
       "    </tr>\n",
       "    <tr>\n",
       "      <th>4</th>\n",
       "      <td>3.5</td>\n",
       "      <td>30</td>\n",
       "    </tr>\n",
       "  </tbody>\n",
       "</table>\n",
       "</div>"
      ],
      "text/plain": [
       "   Hours  Scores\n",
       "0    2.5      21\n",
       "1    5.1      47\n",
       "2    3.2      27\n",
       "3    8.5      75\n",
       "4    3.5      30"
      ]
     },
     "execution_count": 2,
     "metadata": {},
     "output_type": "execute_result"
    }
   ],
   "source": [
    "import pandas as pd\n",
    "import numpy as np\n",
    "import matplotlib.pyplot as plt\n",
    "from sklearn import linear_model\n",
    "df=pd.read_csv(\"C:\\\\Users\\\\P.YASASWINI\\\\OneDrive\\\\Desktop\\\\scores.csv\")\n",
    "df.head()"
   ]
  },
  {
   "cell_type": "code",
   "execution_count": 4,
   "id": "b2b874c1",
   "metadata": {},
   "outputs": [],
   "source": [
    "reg2=linear_model.LinearRegression()\n",
    "import numpy as np"
   ]
  },
  {
   "cell_type": "code",
   "execution_count": 15,
   "id": "f45128d4",
   "metadata": {},
   "outputs": [
    {
     "data": {
      "text/plain": [
       "Hours     False\n",
       "Scores    False\n",
       "dtype: bool"
      ]
     },
     "execution_count": 15,
     "metadata": {},
     "output_type": "execute_result"
    }
   ],
   "source": [
    "df.isna().any()"
   ]
  },
  {
   "cell_type": "markdown",
   "id": "608bf344",
   "metadata": {},
   "source": [
    "plotting the distribution of scores"
   ]
  },
  {
   "cell_type": "code",
   "execution_count": 16,
   "id": "b515c900",
   "metadata": {},
   "outputs": [
    {
     "data": {
      "text/plain": [
       "<matplotlib.collections.PathCollection at 0x14ae78306a0>"
      ]
     },
     "execution_count": 16,
     "metadata": {},
     "output_type": "execute_result"
    },
    {
     "data": {
      "image/png": "[encoded data removed]",
      "text/plain": [
       "<Figure size 432x288 with 1 Axes>"
      ]
     },
     "metadata": {
      "needs_background": "light"
     },
     "output_type": "display_data"
    }
   ],
   "source": [
    "plt.scatter(df.Hours,df.Scores)"
   ]
  },
  {
   "cell_type": "code",
   "execution_count": 17,
   "id": "30b19908",
   "metadata": {},
   "outputs": [],
   "source": [
    "reg2=linear_model.LinearRegression()\n",
    "import numpy as np"
   ]
  },
  {
   "cell_type": "code",
   "execution_count": null,
   "id": "eb3ec51b",
   "metadata": {},
   "outputs": [],
   "source": [
    "Training the model"
   ]
  },
  {
   "cell_type": "code",
   "execution_count": 18,
   "id": "8d937eea",
   "metadata": {},
   "outputs": [
    {
     "data": {
      "text/plain": [
       "LinearRegression()"
      ]
     },
     "execution_count": 18,
     "metadata": {},
     "output_type": "execute_result"
    }
   ],
   "source": [
    "reg2.fit(np.array(df.Hours).reshape(-1,1),df.Scores)"
   ]
  },
  {
   "cell_type": "code",
   "execution_count": 21,
   "id": "51e45842",
   "metadata": {},
   "outputs": [
    {
     "data": {
      "text/plain": [
       "array([92.90985477])"
      ]
     },
     "execution_count": 21,
     "metadata": {},
     "output_type": "execute_result"
    }
   ],
   "source": [
    "reg2.predict(np.array([9.25]).reshape(-1,1))"
   ]
  },
  {
   "cell_type": "code",
   "execution_count": 23,
   "id": "55e34f0b",
   "metadata": {},
   "outputs": [
    {
     "name": "stdout",
     "output_type": "stream",
     "text": [
      "0     26.923182\n",
      "1     52.340271\n",
      "2     33.766244\n",
      "3     85.578002\n",
      "4     36.698985\n",
      "5     17.147378\n",
      "6     92.421065\n",
      "7     56.250592\n",
      "8     83.622842\n",
      "9     28.878343\n",
      "10    77.757360\n",
      "11    60.160913\n",
      "12    46.474789\n",
      "13    34.743825\n",
      "14    13.237057\n",
      "15    89.488324\n",
      "16    26.923182\n",
      "17    21.057700\n",
      "18    62.116074\n",
      "19    74.824618\n",
      "20    28.878343\n",
      "21    49.407530\n",
      "22    39.631726\n",
      "23    69.936717\n",
      "24    78.734940\n",
      "Name: Hours, dtype: float64\n"
     ]
    }
   ],
   "source": [
    "#plotting the regression line\n",
    "line=reg2.coef_*df.Hours+reg2.intercept_\n",
    "print(line)"
   ]
  },
  {
   "cell_type": "code",
   "execution_count": 24,
   "id": "9e8b7939",
   "metadata": {},
   "outputs": [
    {
     "data": {
      "image/png": "[encoded data removed]",
      "text/plain": [
       "<Figure size 432x288 with 1 Axes>"
      ]
     },
     "metadata": {
      "needs_background": "light"
     },
     "output_type": "display_data"
    }
   ],
   "source": [
    "#plotting for the test data\n",
    "plt.scatter(df.Hours,df.Scores)\n",
    "plt.plot(df.Hours,line,color=\"red\")\n",
    "plt.xlabel(\"Hours\",fontsize=12)\n",
    "plt.ylabel(\"Scores\",fontsize=12)\n",
    "plt.show()"
   ]
  }
 ],
 "metadata": {
  "kernelspec": {
   "display_name": "Python 3 (ipykernel)",
   "language": "python",
   "name": "python3"
  },
  "language_info": {
   "codemirror_mode": {
    "name": "ipython",
    "version": 3
   },
   "file_extension": ".py",
   "mimetype": "text/x-python",
   "name": "python",
   "nbconvert_exporter": "python",
   "pygments_lexer": "ipython3",
   "version": "3.9.7"
  }
 },
 "nbformat": 4,
 "nbformat_minor": 5
}
